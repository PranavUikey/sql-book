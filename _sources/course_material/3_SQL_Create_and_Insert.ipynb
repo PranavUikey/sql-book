{
 "cells": [
  {
   "cell_type": "markdown",
   "id": "67af46d2",
   "metadata": {},
   "source": [
    "# CREATE and INSERT\n",
    "\n",
    "## CREATE TABLE"
   ]
  },
  {
   "cell_type": "markdown",
   "id": "e7a57f85",
   "metadata": {},
   "source": [
    "To create a table in SQL, you can use the CREATE TABLE statement followed by the table name and the list of columns and their data types. Here's a general syntax for creating a table:\n",
    "\n",
    "\n",
    "``` sql\n",
    "CREATE TABLE table_name (\n",
    "   column1 datatype,\n",
    "   column2 datatype,\n",
    "   column3 datatype,\n",
    "   ...\n",
    ");\n",
    "```\n",
    "\n",
    "\n",
    "You can replace `table_name` with the desired name for your table. Inside the parentheses, you specify the columns of the table along with their respective data types. Each column is defined with a name and its data type, separated by a comma.\n",
    "\n",
    "For example, let's create a simple table named \"employees\" with columns for employee ID, name, and salary:\n",
    "\n",
    "\n",
    "``` sql\n",
    "CREATE TABLE employees (\n",
    "   employee_id INT,\n",
    "   name VARCHAR(50),\n",
    "   salary DECIMAL(10, 2)\n",
    ");\n",
    "```\n",
    "\n",
    "\n",
    "In this example, the \"employees\" table has three columns: \"employee_id\" of integer data type, \"name\" of variable character data type with a maximum length of 50 characters, and \"salary\" of decimal data type with a precision of 10 digits and a scale of 2.\n",
    "\n",
    "```{note}\n",
    "The specific syntax and available data types may vary depending on the SQL database management system you are using.\n",
    "```"
   ]
  },
  {
   "cell_type": "markdown",
   "id": "7f5b1bf6",
   "metadata": {},
   "source": [
    "## DATA TYPES\n",
    "In SQL, data types define the type of data that can be stored in a column of a table. Each column in a table is assigned a specific data type, which determines the kind of values that can be stored in that column. Here are some commonly used data types in SQL:\n",
    "\n",
    "### 1. Integer (INT):\n",
    "   - Used to store whole numbers without decimal places.\n",
    "   - Example: 42, -10, 0.\n",
    "\n",
    "### 2. Decimal/numeric (DECIMAL/NUMERIC):\n",
    "   - Used to store decimal numbers with a specified precision and scale.\n",
    "   - Example: 3.14, -0.5, 123.456.\n",
    "\n",
    "### 3. Varchar/char/nvarchar (VARCHAR/CHAR/NVARCHAR):\n",
    "   - Used to store character strings of variable or fixed lengths.\n",
    "   - Example: 'Hello', 'OpenAI', '12345'.\n",
    "\n",
    "### 4. Date (DATE):\n",
    "   - Used to store dates without time information.\n",
    "   - Example: '2023-05-21'.\n",
    "\n",
    "### 5. Time (TIME):\n",
    "   - Used to store time values without date information.\n",
    "   - Example: '13:45:00'.\n",
    "\n",
    "### 6. DateTime/TimeStamp (DATETIME/TIMESTAMP):\n",
    "   - Used to store date and time values.\n",
    "   - Example: '2023-05-21 13:45:00'.\n",
    "\n",
    "### 7. Boolean (BOOL):\n",
    "   - Used to store true or false values.\n",
    "   - Example: true, false.\n",
    "\n",
    "\n",
    "You can dive deeper into **SQL DATA TYPES** by using this link.\n",
    "\n",
    "These are just a few examples of commonly used data types in SQL. Different database management systems (DBMS) may support additional data types specific to their implementation. It's important to choose the appropriate data type for each column to ensure accurate storage and retrieval of data in the database."
   ]
  },
  {
   "cell_type": "markdown",
   "id": "66fa040c",
   "metadata": {},
   "source": [
    "![table1_from_select.png](../images/table1_from_select.png)"
   ]
  },
  {
   "cell_type": "markdown",
   "id": "c75d1b4d",
   "metadata": {},
   "source": [
    "## What to do after table creation?\n",
    "\n",
    "After creating a table in SQL, there are several actions you can take depending on your specific requirements:\n",
    "\n",
    "1. **Insert Data**: Use the **INSERT** statement to add rows of data into the table. You specify the column names and provide the corresponding values for each row.\n",
    "\n",
    "2. **Retrieve Data**: Use the **SELECT** statement to query and retrieve data from the table. You can specify the columns you want to retrieve and apply conditions using the **WHERE** clause for filtering.\n",
    "\n",
    "3. **Update Data**: Use the **UPDATE** statement to modify existing data in the table. You can specify the column(s) to be updated and provide new values. Conditions can be applied using the **WHERE** clause to update specific rows.\n",
    "\n",
    "4. **Delete Data**: Use the **DELETE** statement to remove rows from the table. You can specify conditions using the **WHERE** clause to delete specific rows or delete all rows without conditions.\n",
    "\n",
    "5. **Modify Table Structure**: If needed, you can alter the table structure using the **ALTER TABLE** statement. This allows you to add, modify, or delete columns, change data types, and perform other modifications.\n",
    "\n",
    "6. **Create Indexes**: Indexes can be created on specific columns to improve query performance. Indexes help in faster data retrieval by creating a sorted structure of the indexed column(s).\n",
    "\n",
    "These are some common actions you can perform after creating a table in SQL. The specific operations you choose will depend on your data management and analysis requirements."
   ]
  },
  {
   "cell_type": "markdown",
   "id": "81da4e0b",
   "metadata": {},
   "source": [
    "\n",
    "## Insert Data into the Table\n",
    "\n",
    "Inserting data into a table is a fundamental operation in SQL that allows you to populate a table with new rows of data. This process is crucial for building a database's content and making it useful for applications. The `INSERT INTO` statement is used for this purpose, and it enables you to add data to specific columns of a table. Let's delve into the process of inserting data into a table in SQL.\n",
    "\n",
    "To insert data into a table, you need to specify the table name and the values you want to insert. The basic syntax of the `INSERT INTO` statement is as follows:\n",
    "\n",
    "```sql\n",
    "INSERT INTO table_name (column1, column2, column3, ...)\n",
    "VALUES (value1, value2, value3, ...);\n",
    "```\n",
    "\n",
    "Here's a breakdown of the components:\n",
    "\n",
    "- `INSERT INTO`: The command used to indicate that you want to insert data into a table.\n",
    "- `table_name`: The name of the table where you want to insert data.\n",
    "- `(column1, column2, column3, ...)`: A comma-separated list of column names indicating which columns you want to insert data into.\n",
    "- `VALUES`: The keyword used to indicate that you are providing values for the specified columns.\n",
    "- `(value1, value2, value3, ...)`: A comma-separated list of values that correspond to the columns you specified.\n",
    "\n",
    "For instance, consider a table named \"cities\" with columns: city_id, name, pincode, state. You can insert a new city record like this:\n",
    "\n",
    "```sql\n",
    "INSERT INTO cities (city_id, name, pincode, state)\n",
    "VALUES (1, 'Mumbai', 400001, 'Maharashtra'),\n",
    "```\n",
    "\n",
    "In this example, the data for the \"employee_id,\" \"first_name,\" \"last_name,\" and \"salary\" columns is provided in the `VALUES` clause. The specified values correspond to the specified columns in the same order.\n",
    "\n",
    "You can also insert multiple rows of data in a single `INSERT INTO` statement by separating the sets of values with commas. Here's an example inserting two cities records:\n",
    "\n",
    "```sql\n",
    "INSERT INTO cities (city_id, name, pincode, state)\n",
    "VALUES (1, 'Mumbai', 400001, 'Maharashtra'),\n",
    "       (2, 'Chennai', 400002, 'Tamilnadu');\n",
    "```\n",
    "\n",
    "It's important to ensure that the data you insert adheres to the data types and constraints defined for the table columns. For example, if a column has a numeric data type, you should provide numeric values; if a column is defined as a date, use a valid date format.\n",
    "\n",
    "In some cases, you may want to insert data into only specific columns while leaving others empty. To achieve this, you can omit the column names for which you're not providing data. For example:\n",
    "\n",
    "```sql\n",
    "INSERT INTO cities (city_id, name, pincode)\n",
    "VALUES (3, 'Pune', 411006);\n",
    "```\n",
    "\n",
    "Remember that inserting data into a table impacts the database's integrity and structure, so it's essential to double-check the data you're inserting to ensure accuracy and consistency. Additionally, you can combine the `INSERT INTO` statement with other SQL statements to perform more complex operations, such as inserting data based on the result of a subquery or combining data from multiple tables before insertion.\n",
    "\n",
    "In conclusion, inserting data into a table in SQL using the `INSERT INTO` statement is a fundamental database operation. It allows you to populate tables with relevant data and is a critical step in building functional and meaningful databases for various applications.\n"
   ]
  },
  {
   "cell_type": "markdown",
   "id": "66fcac86",
   "metadata": {},
   "source": [
    "![table2_from_select.png](../images/table2_from_select.png)"
   ]
  },
  {
   "cell_type": "markdown",
   "id": "7ac90081",
   "metadata": {},
   "source": [
    "## Exercise\n",
    "\n",
    "### Theory Questions :\n",
    "\n",
    "1. What is the purpose of the SQL statement used to create a new table? Describe the components involved in creating a table.\n",
    "\n",
    "2. How do the SELECT and FROM clauses contribute to an SQL query? Explain their roles in retrieving data from a database.\n",
    "\n",
    "\n",
    "3. Define the term \"data type\" in SQL. Why is it crucial to choose appropriate data types when defining columns in a table?\n",
    "\n",
    "4. What is the significance of the INSERT INTO statement in SQL? Provide an overview of its structure and how it's used to add new records.\n",
    "\n",
    "5. Elaborate on the concept of aliases in SQL. Give an example situation where employing aliases can enhance query readability."
   ]
  },
  {
   "cell_type": "markdown",
   "id": "9be70db0",
   "metadata": {},
   "source": [
    "### Coding Questions:"
   ]
  },
  {
   "cell_type": "markdown",
   "id": "269f2e36",
   "metadata": {},
   "source": [
    "1. Create Table: Create a table named \"students\" with columns for student_id (integer), first_name (varchar), last_name (varchar), and age (integer)."
   ]
  },
  {
   "cell_type": "markdown",
   "id": "f4e47adb",
   "metadata": {},
   "source": [
    "2. Insert Data: Insert two new records into the \"students\" table with the following details:\n",
    "\n",
    "    • student_id = 1, first_name = 'John', last_name = 'Doe', age = 20\n",
    "\n",
    "    • student_id = 2, first_name = 'Jane', last_name = 'Smith', age = 22"
   ]
  },
  {
   "cell_type": "markdown",
   "id": "b825fe94",
   "metadata": {},
   "source": [
    "3. Insert Data with Multiple Rows: Insert three new records into the \"students\" table with the following details:\n",
    "\n",
    "    • student_id = 3, first_name = 'Michael', last_name = 'Johnson', age  = 21\n",
    "\n",
    "    • student_id = 4, first_name = 'Emily', last_name = 'Williams', age = 19\n",
    "\n",
    "    • student_id = 5, first_name = 'Daniel', last_name = 'Brown', age = 23"
   ]
  },
  {
   "cell_type": "markdown",
   "id": "17abb5fa",
   "metadata": {},
   "source": [
    "<!--  Hard Level: -->"
   ]
  },
  {
   "cell_type": "markdown",
   "id": "a2d7efd0",
   "metadata": {},
   "source": [
    "4. Create Table with Constraints: Create a new table named \"employees\" with columns for employee_id (integer), first_name (varchar), last_name (varchar), salary (decimal), and department (varchar). Multiple Inserts and Transaction: Insert five new records into the \"employees\" table with the following details:\n",
    "\n",
    "    • employee_id = 101, first_name = 'Alice', last_name = 'Johnson', salary = 60000.00, department = 'HR'\n",
    "\n",
    "    • employee_id = 102, first_name = 'Bob', last_name = 'Smith', salary = 65000.00, department = 'Finance'\n",
    "\n",
    "    • employee_id = 103, first_name = 'Carol', last_name = 'Williams', salary = 70000.00, department = 'IT'\n",
    "\n",
    "    • employee_id = 104, first_name = 'David', last_name = 'Brown', salary = 75000.00, department = 'Marketing'\n",
    "\n",
    "    • employee_id = 105, first_name = 'Eva', last_name = 'Miller', salary = 80000.00, department = 'Finance'\n",
    "\n",
    "Perform all insertions within a transaction to ensure that all or none of the records are inserted."
   ]
  },
  {
   "cell_type": "markdown",
   "id": "03932626",
   "metadata": {},
   "source": [
    "5. Create an SQL command to make a Products table with the following specifications:\n",
    "\n",
    "- ProductID as an integer,\n",
    "- ProductName as a string (varchar) of 255 characters maximum,\n",
    "- Price as a decimal,\n",
    "- QuantityInStock as an integer\n",
    "\n",
    "Insert values in it :\n",
    "\n",
    "(1, 'Laptop', 1200.00, 10),\n",
    "\n",
    "(2, 'Smartphone', 800.00, 20),\n",
    "\n",
    "(3, 'Keyboard', 100.00, 50)."
   ]
  },
  {
   "cell_type": "markdown",
   "id": "ba31ff59",
   "metadata": {},
   "source": [
    "6. Create a table named Orders with the following columns:\n",
    "\n",
    "- OrderID as an integer,\n",
    "- OrderDate as a date,\n",
    "- CustomerID as an integer,\n",
    "\n",
    "Insert values in it:\n",
    "\n",
    "(101, '2024-01-03', 2001),\n",
    "\n",
    "(102, '2024-02-05', 2002),\n",
    "\n",
    "(103, '2024-12-04', 2003)."
   ]
  }
 ],
 "metadata": {
  "kernelspec": {
   "display_name": "Python 3",
   "language": "python",
   "name": "python3"
  },
  "language_info": {
   "codemirror_mode": {
    "name": "ipython",
    "version": 3
   },
   "file_extension": ".py",
   "mimetype": "text/x-python",
   "name": "python",
   "nbconvert_exporter": "python",
   "pygments_lexer": "ipython3",
   "version": "3.8.8"
  },
  "toc": {
   "base_numbering": 1,
   "nav_menu": {},
   "number_sections": true,
   "sideBar": true,
   "skip_h1_title": false,
   "title_cell": "Table of Contents",
   "title_sidebar": "Contents",
   "toc_cell": false,
   "toc_position": {},
   "toc_section_display": true,
   "toc_window_display": false
  }
 },
 "nbformat": 4,
 "nbformat_minor": 5
}
